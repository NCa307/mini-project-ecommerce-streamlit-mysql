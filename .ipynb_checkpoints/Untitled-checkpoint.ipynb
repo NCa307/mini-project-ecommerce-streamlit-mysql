{
 "cells": [
  {
   "cell_type": "code",
   "execution_count": 1,
   "id": "2fe058fd-b31e-4a0c-9856-86e8ee74c0d0",
   "metadata": {},
   "outputs": [],
   "source": [
    "from pass_file import password\n",
    "\n"
   ]
  },
  {
   "cell_type": "code",
   "execution_count": 2,
   "id": "946d39ec-0945-4f2d-8520-e12024d4e16a",
   "metadata": {},
   "outputs": [
    {
     "data": {
      "text/plain": [
       "'Berlin123!'"
      ]
     },
     "execution_count": 2,
     "metadata": {},
     "output_type": "execute_result"
    }
   ],
   "source": [
    "password"
   ]
  },
  {
   "cell_type": "code",
   "execution_count": null,
   "id": "c8922343-b84f-4b28-bd88-16a008ebce9c",
   "metadata": {},
   "outputs": [],
   "source": []
  }
 ],
 "metadata": {
  "kernelspec": {
   "display_name": "Python 3",
   "language": "python",
   "name": "python3"
  },
  "language_info": {
   "codemirror_mode": {
    "name": "ipython",
    "version": 3
   },
   "file_extension": ".py",
   "mimetype": "text/x-python",
   "name": "python",
   "nbconvert_exporter": "python",
   "pygments_lexer": "ipython3",
   "version": "3.13.5"
  }
 },
 "nbformat": 4,
 "nbformat_minor": 5
}
